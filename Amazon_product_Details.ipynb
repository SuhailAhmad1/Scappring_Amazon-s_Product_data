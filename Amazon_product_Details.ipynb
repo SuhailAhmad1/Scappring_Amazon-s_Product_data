{
  "nbformat": 4,
  "nbformat_minor": 0,
  "metadata": {
    "colab": {
      "name": "python_assignment_solution.ipynb",
      "provenance": [],
      "authorship_tag": "ABX9TyOGCWD7+kL2wo9GC3LxOUQG",
      "include_colab_link": true
    },
    "kernelspec": {
      "name": "python3",
      "display_name": "Python 3"
    },
    "language_info": {
      "name": "python"
    }
  },
  "cells": [
    {
      "cell_type": "markdown",
      "metadata": {
        "id": "view-in-github",
        "colab_type": "text"
      },
      "source": [
        "<a href=\"https://colab.research.google.com/github/SuhailAhmad1/Scappring_Amazon-s_Product_data/blob/main/Amazon_product_Details.ipynb\" target=\"_parent\"><img src=\"https://colab.research.google.com/assets/colab-badge.svg\" alt=\"Open In Colab\"/></a>"
      ]
    },
    {
      "cell_type": "markdown",
      "source": [
        "# ***Getting Data for a single page***"
      ],
      "metadata": {
        "id": "FqaC3a0ZsFmc"
      }
    },
    {
      "cell_type": "markdown",
      "source": [
        "# Importing Important Libraries"
      ],
      "metadata": {
        "id": "dbwS4B6aeDgt"
      }
    },
    {
      "cell_type": "code",
      "source": [
        "import requests\n",
        "\n",
        "import pandas as pd \n",
        "from bs4 import BeautifulSoup as bs"
      ],
      "metadata": {
        "id": "j6uVH0tTeMix"
      },
      "execution_count": 1,
      "outputs": []
    },
    {
      "cell_type": "markdown",
      "source": [
        "# Getting the response from Amazon"
      ],
      "metadata": {
        "id": "Y2LpZc7Yev3A"
      }
    },
    {
      "cell_type": "code",
      "source": [
        "url = 'https://www.amazon.in/s?k=bags&crid=2M096C61O4MLT&qid=1653308124&sprefix=ba%2Caps%2C283&ref=sr_pg_1'\n",
        "header = {\"user-agent\": \"Mozilla/5.0 (Windows NT 11.0; Win64; x64) AppleWebKit/537.36 (KHTML, like Gecko) Chrome/74.0.3729.169 Safari/537.36\" ,'referer':'https://www.google.com/'}\n",
        "response = requests.get(url, headers = header)"
      ],
      "metadata": {
        "id": "Y2ravKome8Tn"
      },
      "execution_count": 2,
      "outputs": []
    },
    {
      "cell_type": "code",
      "source": [
        "soup = bs(response.content)"
      ],
      "metadata": {
        "id": "PDz3WriEgCT7"
      },
      "execution_count": 3,
      "outputs": []
    },
    {
      "cell_type": "code",
      "source": [
        "data_fields = soup.find_all('div', attrs={'data-component-type':'s-search-result'})"
      ],
      "metadata": {
        "id": "Q-bSTaJYqC_-"
      },
      "execution_count": 4,
      "outputs": []
    },
    {
      "cell_type": "markdown",
      "source": [
        "# Getting the Product Names"
      ],
      "metadata": {
        "id": "QzPfbYMU3I4u"
      }
    },
    {
      "cell_type": "code",
      "source": [
        "names_list=[]\n",
        "names_raw = []\n",
        "for row in data_fields:\n",
        "  name_raw = row.find_all('span', attrs={'class': 'a-size-medium a-color-base a-text-normal'})\n",
        "  names_list.append(name_raw[0].text)"
      ],
      "metadata": {
        "id": "R64WgYeMz394"
      },
      "execution_count": 5,
      "outputs": []
    },
    {
      "cell_type": "code",
      "source": [
        "names_list"
      ],
      "metadata": {
        "colab": {
          "base_uri": "https://localhost:8080/"
        },
        "id": "g90u2eEQz377",
        "outputId": "61994747-f6bf-48ad-c966-d7a51484bf2c"
      },
      "execution_count": 6,
      "outputs": [
        {
          "output_type": "execute_result",
          "data": {
            "text/plain": [
              "['Laptop Backpack of OPT-262/263/273/274/1395/1396',\n",
              " 'North zone Sport 34 Litres Stylish Backpack | School College Bag For Boys & Girls | Laptop Bag With USB Charging Waterproof Material, Laptop size upto 15.6 inches Capacity: upto 35 Ltrs',\n",
              " 'American Tourister Casual Backpack',\n",
              " 'Keywin Travel Bag Trekking Bag Mountaineering Bag 55 L Backpack',\n",
              " 'Half Moon 35 L Casual Waterproof Laptop Bag/Backpack for Men Women Boys Girls/Office School College Teens & Students with Rain Cover (18 Inch) (Navy)',\n",
              " 'TRUE HUMAN Emperor Anti-Theft backpack With USB charging Port and anti -theft back pocket Laptop bag , office bag , college bag ( LEGEND )',\n",
              " 'Northzone Lightweight School Bags Backpacks for Boys Girls Stylish Men and Women Casual Travel Laptop Bag College Office (Navy Blue) 40L',\n",
              " 'Gear Classic Anti Theft Faux Leather 18 inch 48 cms Brown Laptop Backpack (LBPCLSLTH0201)',\n",
              " 'SAFARI 15 Ltrs Sea Blue Casual/School/College Backpack (DAYPACKNEO15CBSEB)',\n",
              " 'Martucci 15.6 inch 30 L Casual Waterproof Laptop Backpack/Office Bag/School Bag/College Bag/Business Bag/Unisex Travel Backpack(Black)',\n",
              " 'Northzone Laptop Bag/College Bag/School Bag/Office Bag/Waterproof Bag/Travel Bag/Casual Backpack/Trending Backpack (Black1) 40L Backpack',\n",
              " 'Acrux Troy Polyester Waterproof Laptop, Travel, College, School Backpack for Men & Women 30L',\n",
              " 'POLESTAR Vintage 32 L College/ School/ Office/ Casual/ Travel Backpack with 15.6\" laptop compartment, suitable for both men & women,1 year warranty',\n",
              " 'Mi Step Out 12 L Mini Backpack (Small Size, Black, Water Repellant)',\n",
              " 'Wooum 15.6 inch Laptop Bag Backpack Fashion Rucksack Casual Student School Bag Computer Bag College Bag Office Bag Business Bag Unisex Travel Backpack',\n",
              " 'Afn Fashion 45 Ltrs Casual backpack/ office/ School Bag/Laptop Backpack for (15.6 inch) Blue',\n",
              " 'DIVING DEEP Women Backpack Latest School Bag for Girls (Black)',\n",
              " 'American Tourister Casual Backpack',\n",
              " \"DEIN KLEIDER Men's Nylon Messenger Bag\",\n",
              " 'Fur Jaden Anti Theft Backpack 15.6 Inch Laptop Bag with USB Charging Port and Water Resistant Fabric',\n",
              " 'HEROZ Hacker 50 litres Nylon Travel Laptop Backpack Water Resistant Slim Durable Computer Book Bag Tracking Fits Up to 17.3-inch Laptop (058- All) (Grey & Red)',\n",
              " 'Northzone Lightweight School Bags Backpacks for Boys Girls Stylish Men and Women Casual Travel Laptop Bag College Office (Navy Blue) 40L']"
            ]
          },
          "metadata": {},
          "execution_count": 6
        }
      ]
    },
    {
      "cell_type": "markdown",
      "source": [
        "# Getting The Product Ratings"
      ],
      "metadata": {
        "id": "CKki6vXT3RuJ"
      }
    },
    {
      "cell_type": "code",
      "source": [
        "ratings_list=[]\n",
        "rat = []\n",
        "for row in data_fields:\n",
        "  rat = row.find_all('span', attrs={'class': 'a-icon-alt'})\n",
        "  if(rat):\n",
        "    ratings_list.append(rat[0].text)\n",
        "  else:\n",
        "    ratings_list.append('Not Available')"
      ],
      "metadata": {
        "id": "ECpWkleLz35q"
      },
      "execution_count": 7,
      "outputs": []
    },
    {
      "cell_type": "code",
      "source": [
        "ratings_list"
      ],
      "metadata": {
        "colab": {
          "base_uri": "https://localhost:8080/"
        },
        "id": "KiQ6IyD03DyI",
        "outputId": "0eb7776b-8947-4966-a332-2e17dcdbc464"
      },
      "execution_count": 8,
      "outputs": [
        {
          "output_type": "execute_result",
          "data": {
            "text/plain": [
              "['3.9 out of 5 stars',\n",
              " '3.9 out of 5 stars',\n",
              " '4.1 out of 5 stars',\n",
              " 'Not Available',\n",
              " '3.9 out of 5 stars',\n",
              " '3.9 out of 5 stars',\n",
              " '4.0 out of 5 stars',\n",
              " '4.4 out of 5 stars',\n",
              " '4.0 out of 5 stars',\n",
              " '4.1 out of 5 stars',\n",
              " '4.0 out of 5 stars',\n",
              " '3.7 out of 5 stars',\n",
              " '4.0 out of 5 stars',\n",
              " '4.1 out of 5 stars',\n",
              " '4.0 out of 5 stars',\n",
              " '4.0 out of 5 stars',\n",
              " '3.3 out of 5 stars',\n",
              " '4.1 out of 5 stars',\n",
              " '3.9 out of 5 stars',\n",
              " '4.0 out of 5 stars',\n",
              " '4.1 out of 5 stars',\n",
              " '4.0 out of 5 stars']"
            ]
          },
          "metadata": {},
          "execution_count": 8
        }
      ]
    },
    {
      "cell_type": "markdown",
      "source": [
        "#Getting Product Prices"
      ],
      "metadata": {
        "id": "zpZQ6zZg7yj6"
      }
    },
    {
      "cell_type": "code",
      "source": [
        "prices_list = []\n",
        "prices_raw = []\n",
        "for row in data_fields:\n",
        "  price_raw = row.find_all('span', attrs={'class':'a-offscreen'})\n",
        "  if(price_raw):\n",
        "    prices_list.append(price_raw[0].text)\n",
        "  else:\n",
        "    prices_list.append(\"NA\")"
      ],
      "metadata": {
        "id": "3RK8-PRg76_b"
      },
      "execution_count": 9,
      "outputs": []
    },
    {
      "cell_type": "code",
      "source": [
        "prices_list"
      ],
      "metadata": {
        "colab": {
          "base_uri": "https://localhost:8080/"
        },
        "id": "C7DttW5p8p6l",
        "outputId": "caa1bdf0-c6b9-41eb-a605-adfb010f76f6"
      },
      "execution_count": 10,
      "outputs": [
        {
          "output_type": "execute_result",
          "data": {
            "text/plain": [
              "['₹494',\n",
              " '₹749',\n",
              " '₹999',\n",
              " '₹589',\n",
              " '₹649',\n",
              " '₹699',\n",
              " '₹665',\n",
              " '₹799',\n",
              " '₹299',\n",
              " '₹539',\n",
              " '₹665',\n",
              " '₹499',\n",
              " '₹579',\n",
              " '₹299',\n",
              " '₹444',\n",
              " '₹749',\n",
              " '₹349',\n",
              " '₹1,099',\n",
              " '₹305',\n",
              " '₹799',\n",
              " '₹1,371',\n",
              " '₹665']"
            ]
          },
          "metadata": {},
          "execution_count": 10
        }
      ]
    },
    {
      "cell_type": "markdown",
      "source": [
        "#Gettings Number of reviews"
      ],
      "metadata": {
        "id": "9y-ZChf5_HTN"
      }
    },
    {
      "cell_type": "code",
      "source": [
        "no_of_reviews_list = []\n",
        "#<span class=\"a-size-base s-light-weight-text\">16,715</span>\n",
        "for row in data_fields:\n",
        "  r = row.find_all('span', attrs={'class':'a-size-base'})\n",
        "  if(r):\n",
        "    no_of_reviews_list.append(r[0].text)\n",
        "  else:\n",
        "    no_of_reviews_list.append('NA')"
      ],
      "metadata": {
        "id": "PclUo5sX_rbh"
      },
      "execution_count": 11,
      "outputs": []
    },
    {
      "cell_type": "code",
      "source": [
        "no_of_reviews_list"
      ],
      "metadata": {
        "colab": {
          "base_uri": "https://localhost:8080/"
        },
        "id": "0fncitOqB92v",
        "outputId": "48ab364f-307e-42b3-9d50-04706d334d80"
      },
      "execution_count": 12,
      "outputs": [
        {
          "output_type": "execute_result",
          "data": {
            "text/plain": [
              "['4,243',\n",
              " '26',\n",
              " '40,245',\n",
              " 'NA',\n",
              " '10,242',\n",
              " '296',\n",
              " '2,450',\n",
              " '4,137',\n",
              " '14,189',\n",
              " '3,575',\n",
              " '690',\n",
              " '1,342',\n",
              " '5,785',\n",
              " '2,861',\n",
              " '1,238',\n",
              " '1,159',\n",
              " '892',\n",
              " '10,165',\n",
              " '2,610',\n",
              " '10,714',\n",
              " '3,061',\n",
              " '2,450']"
            ]
          },
          "metadata": {},
          "execution_count": 12
        }
      ]
    },
    {
      "cell_type": "markdown",
      "source": [
        "# Getting Product URLs"
      ],
      "metadata": {
        "id": "VBK50hPiCWVn"
      }
    },
    {
      "cell_type": "code",
      "source": [
        "URLs_list = []"
      ],
      "metadata": {
        "id": "onCTb5g0CaJQ"
      },
      "execution_count": 13,
      "outputs": []
    },
    {
      "cell_type": "code",
      "source": [
        "URLs_list = []\n",
        "for row in data_fields:\n",
        "  strr = row.find('a', attrs={'class':'s-no-outline'}).get('href')\n",
        "  strr = 'https://www.amazon.in'+strr\n",
        "  URLs_list.append(strr)"
      ],
      "metadata": {
        "id": "_Ts4GWraFxsG"
      },
      "execution_count": 14,
      "outputs": []
    },
    {
      "cell_type": "markdown",
      "source": [
        "# Putting Data Together"
      ],
      "metadata": {
        "id": "hu4tG2K9LWli"
      }
    },
    {
      "cell_type": "code",
      "source": [
        "zipped = zip(names_list,prices_list,ratings_list,no_of_reviews_list,URLs_list)"
      ],
      "metadata": {
        "id": "EHGk_vevi7l1"
      },
      "execution_count": 15,
      "outputs": []
    },
    {
      "cell_type": "code",
      "source": [
        "df = pd.DataFrame(zipped, columns=['Product Name','Product Price','Product_Rating','No. of Reviews','Product URL'])"
      ],
      "metadata": {
        "id": "-bIU9HhE9Rf-"
      },
      "execution_count": 16,
      "outputs": []
    },
    {
      "cell_type": "code",
      "source": [
        "df"
      ],
      "metadata": {
        "colab": {
          "base_uri": "https://localhost:8080/",
          "height": 739
        },
        "id": "lKDhNL8wm2kz",
        "outputId": "0b2a7e40-1c57-4bc6-d21b-b1d1b82ec7f7"
      },
      "execution_count": 17,
      "outputs": [
        {
          "output_type": "execute_result",
          "data": {
            "text/plain": [
              "                                         Product Name Product Price  \\\n",
              "0    Laptop Backpack of OPT-262/263/273/274/1395/1396          ₹494   \n",
              "1   North zone Sport 34 Litres Stylish Backpack | ...          ₹749   \n",
              "2                  American Tourister Casual Backpack          ₹999   \n",
              "3   Keywin Travel Bag Trekking Bag Mountaineering ...          ₹589   \n",
              "4   Half Moon 35 L Casual Waterproof Laptop Bag/Ba...          ₹649   \n",
              "5   TRUE HUMAN Emperor Anti-Theft backpack With US...          ₹699   \n",
              "6   Northzone Lightweight School Bags Backpacks fo...          ₹665   \n",
              "7   Gear Classic Anti Theft Faux Leather 18 inch 4...          ₹799   \n",
              "8   SAFARI 15 Ltrs Sea Blue Casual/School/College ...          ₹299   \n",
              "9   Martucci 15.6 inch 30 L Casual Waterproof Lapt...          ₹539   \n",
              "10  Northzone Laptop Bag/College Bag/School Bag/Of...          ₹665   \n",
              "11  Acrux Troy Polyester Waterproof Laptop, Travel...          ₹499   \n",
              "12  POLESTAR Vintage 32 L College/ School/ Office/...          ₹579   \n",
              "13  Mi Step Out 12 L Mini Backpack (Small Size, Bl...          ₹299   \n",
              "14  Wooum 15.6 inch Laptop Bag Backpack Fashion Ru...          ₹444   \n",
              "15  Afn Fashion 45 Ltrs Casual backpack/ office/ S...          ₹749   \n",
              "16  DIVING DEEP Women Backpack Latest School Bag f...          ₹349   \n",
              "17                 American Tourister Casual Backpack        ₹1,099   \n",
              "18             DEIN KLEIDER Men's Nylon Messenger Bag          ₹305   \n",
              "19  Fur Jaden Anti Theft Backpack 15.6 Inch Laptop...          ₹799   \n",
              "20  HEROZ Hacker 50 litres Nylon Travel Laptop Bac...        ₹1,371   \n",
              "21  Northzone Lightweight School Bags Backpacks fo...          ₹665   \n",
              "\n",
              "        Product_Rating No. of Reviews  \\\n",
              "0   3.9 out of 5 stars          4,243   \n",
              "1   3.9 out of 5 stars             26   \n",
              "2   4.1 out of 5 stars         40,245   \n",
              "3        Not Available             NA   \n",
              "4   3.9 out of 5 stars         10,242   \n",
              "5   3.9 out of 5 stars            296   \n",
              "6   4.0 out of 5 stars          2,450   \n",
              "7   4.4 out of 5 stars          4,137   \n",
              "8   4.0 out of 5 stars         14,189   \n",
              "9   4.1 out of 5 stars          3,575   \n",
              "10  4.0 out of 5 stars            690   \n",
              "11  3.7 out of 5 stars          1,342   \n",
              "12  4.0 out of 5 stars          5,785   \n",
              "13  4.1 out of 5 stars          2,861   \n",
              "14  4.0 out of 5 stars          1,238   \n",
              "15  4.0 out of 5 stars          1,159   \n",
              "16  3.3 out of 5 stars            892   \n",
              "17  4.1 out of 5 stars         10,165   \n",
              "18  3.9 out of 5 stars          2,610   \n",
              "19  4.0 out of 5 stars         10,714   \n",
              "20  4.1 out of 5 stars          3,061   \n",
              "21  4.0 out of 5 stars          2,450   \n",
              "\n",
              "                                          Product URL  \n",
              "0   https://www.amazon.in/gp/slredirect/picassoRed...  \n",
              "1   https://www.amazon.in/gp/slredirect/picassoRed...  \n",
              "2   https://www.amazon.in/American-Tourister-AMT-S...  \n",
              "3   https://www.amazon.in/Keywin-Travel-Trekking-M...  \n",
              "4   https://www.amazon.in/Half-Moon-Waterproof-Bac...  \n",
              "5   https://www.amazon.in/TRUE-HUMAN-Anti-Theft-ba...  \n",
              "6   https://www.amazon.in/Northzone-Polyester-Scho...  \n",
              "7   https://www.amazon.in/Gear-Classic-Leather-Bac...  \n",
              "8   https://www.amazon.in/SAFARI-Ltrs-Casual-Backp...  \n",
              "9   https://www.amazon.in/Martucci-Casual-Travelli...  \n",
              "10  https://www.amazon.in/gp/slredirect/picassoRed...  \n",
              "11  https://www.amazon.in/gp/slredirect/picassoRed...  \n",
              "12  https://www.amazon.in/POLESTAR-Vintage-Laptop-...  \n",
              "13  https://www.amazon.in/Backpack-Small-Black-Wat...  \n",
              "14  https://www.amazon.in/Backpack-Fashion-Compute...  \n",
              "15  https://www.amazon.in/AFN-FASHION-Casual-bagpa...  \n",
              "16  https://www.amazon.in/DIVING-DEEP-Backpack-Pol...  \n",
              "17  https://www.amazon.in/American-Tourister-AMT-S...  \n",
              "18  https://www.amazon.in/Kleider-Travel-Business-...  \n",
              "19  https://www.amazon.in/Fur-Jaden-Black-Waterpro...  \n",
              "20  https://www.amazon.in/gp/slredirect/picassoRed...  \n",
              "21  https://www.amazon.in/gp/slredirect/picassoRed...  "
            ],
            "text/html": [
              "\n",
              "  <div id=\"df-eb3c40ee-a482-4f32-bf1b-2880d935df68\">\n",
              "    <div class=\"colab-df-container\">\n",
              "      <div>\n",
              "<style scoped>\n",
              "    .dataframe tbody tr th:only-of-type {\n",
              "        vertical-align: middle;\n",
              "    }\n",
              "\n",
              "    .dataframe tbody tr th {\n",
              "        vertical-align: top;\n",
              "    }\n",
              "\n",
              "    .dataframe thead th {\n",
              "        text-align: right;\n",
              "    }\n",
              "</style>\n",
              "<table border=\"1\" class=\"dataframe\">\n",
              "  <thead>\n",
              "    <tr style=\"text-align: right;\">\n",
              "      <th></th>\n",
              "      <th>Product Name</th>\n",
              "      <th>Product Price</th>\n",
              "      <th>Product_Rating</th>\n",
              "      <th>No. of Reviews</th>\n",
              "      <th>Product URL</th>\n",
              "    </tr>\n",
              "  </thead>\n",
              "  <tbody>\n",
              "    <tr>\n",
              "      <th>0</th>\n",
              "      <td>Laptop Backpack of OPT-262/263/273/274/1395/1396</td>\n",
              "      <td>₹494</td>\n",
              "      <td>3.9 out of 5 stars</td>\n",
              "      <td>4,243</td>\n",
              "      <td>https://www.amazon.in/gp/slredirect/picassoRed...</td>\n",
              "    </tr>\n",
              "    <tr>\n",
              "      <th>1</th>\n",
              "      <td>North zone Sport 34 Litres Stylish Backpack | ...</td>\n",
              "      <td>₹749</td>\n",
              "      <td>3.9 out of 5 stars</td>\n",
              "      <td>26</td>\n",
              "      <td>https://www.amazon.in/gp/slredirect/picassoRed...</td>\n",
              "    </tr>\n",
              "    <tr>\n",
              "      <th>2</th>\n",
              "      <td>American Tourister Casual Backpack</td>\n",
              "      <td>₹999</td>\n",
              "      <td>4.1 out of 5 stars</td>\n",
              "      <td>40,245</td>\n",
              "      <td>https://www.amazon.in/American-Tourister-AMT-S...</td>\n",
              "    </tr>\n",
              "    <tr>\n",
              "      <th>3</th>\n",
              "      <td>Keywin Travel Bag Trekking Bag Mountaineering ...</td>\n",
              "      <td>₹589</td>\n",
              "      <td>Not Available</td>\n",
              "      <td>NA</td>\n",
              "      <td>https://www.amazon.in/Keywin-Travel-Trekking-M...</td>\n",
              "    </tr>\n",
              "    <tr>\n",
              "      <th>4</th>\n",
              "      <td>Half Moon 35 L Casual Waterproof Laptop Bag/Ba...</td>\n",
              "      <td>₹649</td>\n",
              "      <td>3.9 out of 5 stars</td>\n",
              "      <td>10,242</td>\n",
              "      <td>https://www.amazon.in/Half-Moon-Waterproof-Bac...</td>\n",
              "    </tr>\n",
              "    <tr>\n",
              "      <th>5</th>\n",
              "      <td>TRUE HUMAN Emperor Anti-Theft backpack With US...</td>\n",
              "      <td>₹699</td>\n",
              "      <td>3.9 out of 5 stars</td>\n",
              "      <td>296</td>\n",
              "      <td>https://www.amazon.in/TRUE-HUMAN-Anti-Theft-ba...</td>\n",
              "    </tr>\n",
              "    <tr>\n",
              "      <th>6</th>\n",
              "      <td>Northzone Lightweight School Bags Backpacks fo...</td>\n",
              "      <td>₹665</td>\n",
              "      <td>4.0 out of 5 stars</td>\n",
              "      <td>2,450</td>\n",
              "      <td>https://www.amazon.in/Northzone-Polyester-Scho...</td>\n",
              "    </tr>\n",
              "    <tr>\n",
              "      <th>7</th>\n",
              "      <td>Gear Classic Anti Theft Faux Leather 18 inch 4...</td>\n",
              "      <td>₹799</td>\n",
              "      <td>4.4 out of 5 stars</td>\n",
              "      <td>4,137</td>\n",
              "      <td>https://www.amazon.in/Gear-Classic-Leather-Bac...</td>\n",
              "    </tr>\n",
              "    <tr>\n",
              "      <th>8</th>\n",
              "      <td>SAFARI 15 Ltrs Sea Blue Casual/School/College ...</td>\n",
              "      <td>₹299</td>\n",
              "      <td>4.0 out of 5 stars</td>\n",
              "      <td>14,189</td>\n",
              "      <td>https://www.amazon.in/SAFARI-Ltrs-Casual-Backp...</td>\n",
              "    </tr>\n",
              "    <tr>\n",
              "      <th>9</th>\n",
              "      <td>Martucci 15.6 inch 30 L Casual Waterproof Lapt...</td>\n",
              "      <td>₹539</td>\n",
              "      <td>4.1 out of 5 stars</td>\n",
              "      <td>3,575</td>\n",
              "      <td>https://www.amazon.in/Martucci-Casual-Travelli...</td>\n",
              "    </tr>\n",
              "    <tr>\n",
              "      <th>10</th>\n",
              "      <td>Northzone Laptop Bag/College Bag/School Bag/Of...</td>\n",
              "      <td>₹665</td>\n",
              "      <td>4.0 out of 5 stars</td>\n",
              "      <td>690</td>\n",
              "      <td>https://www.amazon.in/gp/slredirect/picassoRed...</td>\n",
              "    </tr>\n",
              "    <tr>\n",
              "      <th>11</th>\n",
              "      <td>Acrux Troy Polyester Waterproof Laptop, Travel...</td>\n",
              "      <td>₹499</td>\n",
              "      <td>3.7 out of 5 stars</td>\n",
              "      <td>1,342</td>\n",
              "      <td>https://www.amazon.in/gp/slredirect/picassoRed...</td>\n",
              "    </tr>\n",
              "    <tr>\n",
              "      <th>12</th>\n",
              "      <td>POLESTAR Vintage 32 L College/ School/ Office/...</td>\n",
              "      <td>₹579</td>\n",
              "      <td>4.0 out of 5 stars</td>\n",
              "      <td>5,785</td>\n",
              "      <td>https://www.amazon.in/POLESTAR-Vintage-Laptop-...</td>\n",
              "    </tr>\n",
              "    <tr>\n",
              "      <th>13</th>\n",
              "      <td>Mi Step Out 12 L Mini Backpack (Small Size, Bl...</td>\n",
              "      <td>₹299</td>\n",
              "      <td>4.1 out of 5 stars</td>\n",
              "      <td>2,861</td>\n",
              "      <td>https://www.amazon.in/Backpack-Small-Black-Wat...</td>\n",
              "    </tr>\n",
              "    <tr>\n",
              "      <th>14</th>\n",
              "      <td>Wooum 15.6 inch Laptop Bag Backpack Fashion Ru...</td>\n",
              "      <td>₹444</td>\n",
              "      <td>4.0 out of 5 stars</td>\n",
              "      <td>1,238</td>\n",
              "      <td>https://www.amazon.in/Backpack-Fashion-Compute...</td>\n",
              "    </tr>\n",
              "    <tr>\n",
              "      <th>15</th>\n",
              "      <td>Afn Fashion 45 Ltrs Casual backpack/ office/ S...</td>\n",
              "      <td>₹749</td>\n",
              "      <td>4.0 out of 5 stars</td>\n",
              "      <td>1,159</td>\n",
              "      <td>https://www.amazon.in/AFN-FASHION-Casual-bagpa...</td>\n",
              "    </tr>\n",
              "    <tr>\n",
              "      <th>16</th>\n",
              "      <td>DIVING DEEP Women Backpack Latest School Bag f...</td>\n",
              "      <td>₹349</td>\n",
              "      <td>3.3 out of 5 stars</td>\n",
              "      <td>892</td>\n",
              "      <td>https://www.amazon.in/DIVING-DEEP-Backpack-Pol...</td>\n",
              "    </tr>\n",
              "    <tr>\n",
              "      <th>17</th>\n",
              "      <td>American Tourister Casual Backpack</td>\n",
              "      <td>₹1,099</td>\n",
              "      <td>4.1 out of 5 stars</td>\n",
              "      <td>10,165</td>\n",
              "      <td>https://www.amazon.in/American-Tourister-AMT-S...</td>\n",
              "    </tr>\n",
              "    <tr>\n",
              "      <th>18</th>\n",
              "      <td>DEIN KLEIDER Men's Nylon Messenger Bag</td>\n",
              "      <td>₹305</td>\n",
              "      <td>3.9 out of 5 stars</td>\n",
              "      <td>2,610</td>\n",
              "      <td>https://www.amazon.in/Kleider-Travel-Business-...</td>\n",
              "    </tr>\n",
              "    <tr>\n",
              "      <th>19</th>\n",
              "      <td>Fur Jaden Anti Theft Backpack 15.6 Inch Laptop...</td>\n",
              "      <td>₹799</td>\n",
              "      <td>4.0 out of 5 stars</td>\n",
              "      <td>10,714</td>\n",
              "      <td>https://www.amazon.in/Fur-Jaden-Black-Waterpro...</td>\n",
              "    </tr>\n",
              "    <tr>\n",
              "      <th>20</th>\n",
              "      <td>HEROZ Hacker 50 litres Nylon Travel Laptop Bac...</td>\n",
              "      <td>₹1,371</td>\n",
              "      <td>4.1 out of 5 stars</td>\n",
              "      <td>3,061</td>\n",
              "      <td>https://www.amazon.in/gp/slredirect/picassoRed...</td>\n",
              "    </tr>\n",
              "    <tr>\n",
              "      <th>21</th>\n",
              "      <td>Northzone Lightweight School Bags Backpacks fo...</td>\n",
              "      <td>₹665</td>\n",
              "      <td>4.0 out of 5 stars</td>\n",
              "      <td>2,450</td>\n",
              "      <td>https://www.amazon.in/gp/slredirect/picassoRed...</td>\n",
              "    </tr>\n",
              "  </tbody>\n",
              "</table>\n",
              "</div>\n",
              "      <button class=\"colab-df-convert\" onclick=\"convertToInteractive('df-eb3c40ee-a482-4f32-bf1b-2880d935df68')\"\n",
              "              title=\"Convert this dataframe to an interactive table.\"\n",
              "              style=\"display:none;\">\n",
              "        \n",
              "  <svg xmlns=\"http://www.w3.org/2000/svg\" height=\"24px\"viewBox=\"0 0 24 24\"\n",
              "       width=\"24px\">\n",
              "    <path d=\"M0 0h24v24H0V0z\" fill=\"none\"/>\n",
              "    <path d=\"M18.56 5.44l.94 2.06.94-2.06 2.06-.94-2.06-.94-.94-2.06-.94 2.06-2.06.94zm-11 1L8.5 8.5l.94-2.06 2.06-.94-2.06-.94L8.5 2.5l-.94 2.06-2.06.94zm10 10l.94 2.06.94-2.06 2.06-.94-2.06-.94-.94-2.06-.94 2.06-2.06.94z\"/><path d=\"M17.41 7.96l-1.37-1.37c-.4-.4-.92-.59-1.43-.59-.52 0-1.04.2-1.43.59L10.3 9.45l-7.72 7.72c-.78.78-.78 2.05 0 2.83L4 21.41c.39.39.9.59 1.41.59.51 0 1.02-.2 1.41-.59l7.78-7.78 2.81-2.81c.8-.78.8-2.07 0-2.86zM5.41 20L4 18.59l7.72-7.72 1.47 1.35L5.41 20z\"/>\n",
              "  </svg>\n",
              "      </button>\n",
              "      \n",
              "  <style>\n",
              "    .colab-df-container {\n",
              "      display:flex;\n",
              "      flex-wrap:wrap;\n",
              "      gap: 12px;\n",
              "    }\n",
              "\n",
              "    .colab-df-convert {\n",
              "      background-color: #E8F0FE;\n",
              "      border: none;\n",
              "      border-radius: 50%;\n",
              "      cursor: pointer;\n",
              "      display: none;\n",
              "      fill: #1967D2;\n",
              "      height: 32px;\n",
              "      padding: 0 0 0 0;\n",
              "      width: 32px;\n",
              "    }\n",
              "\n",
              "    .colab-df-convert:hover {\n",
              "      background-color: #E2EBFA;\n",
              "      box-shadow: 0px 1px 2px rgba(60, 64, 67, 0.3), 0px 1px 3px 1px rgba(60, 64, 67, 0.15);\n",
              "      fill: #174EA6;\n",
              "    }\n",
              "\n",
              "    [theme=dark] .colab-df-convert {\n",
              "      background-color: #3B4455;\n",
              "      fill: #D2E3FC;\n",
              "    }\n",
              "\n",
              "    [theme=dark] .colab-df-convert:hover {\n",
              "      background-color: #434B5C;\n",
              "      box-shadow: 0px 1px 3px 1px rgba(0, 0, 0, 0.15);\n",
              "      filter: drop-shadow(0px 1px 2px rgba(0, 0, 0, 0.3));\n",
              "      fill: #FFFFFF;\n",
              "    }\n",
              "  </style>\n",
              "\n",
              "      <script>\n",
              "        const buttonEl =\n",
              "          document.querySelector('#df-eb3c40ee-a482-4f32-bf1b-2880d935df68 button.colab-df-convert');\n",
              "        buttonEl.style.display =\n",
              "          google.colab.kernel.accessAllowed ? 'block' : 'none';\n",
              "\n",
              "        async function convertToInteractive(key) {\n",
              "          const element = document.querySelector('#df-eb3c40ee-a482-4f32-bf1b-2880d935df68');\n",
              "          const dataTable =\n",
              "            await google.colab.kernel.invokeFunction('convertToInteractive',\n",
              "                                                     [key], {});\n",
              "          if (!dataTable) return;\n",
              "\n",
              "          const docLinkHtml = 'Like what you see? Visit the ' +\n",
              "            '<a target=\"_blank\" href=https://colab.research.google.com/notebooks/data_table.ipynb>data table notebook</a>'\n",
              "            + ' to learn more about interactive tables.';\n",
              "          element.innerHTML = '';\n",
              "          dataTable['output_type'] = 'display_data';\n",
              "          await google.colab.output.renderOutput(dataTable, element);\n",
              "          const docLink = document.createElement('div');\n",
              "          docLink.innerHTML = docLinkHtml;\n",
              "          element.appendChild(docLink);\n",
              "        }\n",
              "      </script>\n",
              "    </div>\n",
              "  </div>\n",
              "  "
            ]
          },
          "metadata": {},
          "execution_count": 17
        }
      ]
    },
    {
      "cell_type": "markdown",
      "source": [
        "# ***Getting the above data for first 20 pages*** "
      ],
      "metadata": {
        "id": "RwbEIIyII8Yb"
      }
    },
    {
      "cell_type": "code",
      "source": [
        "names_list = []\n",
        "ratings_list = []\n",
        "prices_list = []\n",
        "URLs_list = []\n",
        "no_of_reviews_list = []\n",
        "\n",
        "for i in range(1, 21):\n",
        "  #Generating Url for first 20 pages\n",
        "  url = 'https://www.amazon.in/s?k=bags&page='+str(i)+'&crid=2M096C61O4MLT&qid=1653552543&sprefix=ba%2Caps%2C283&ref=sr_pg_'+str(i)\n",
        "  header = {\"user-agent\": \"Mozilla/5.0 (Windows NT 10.0; Win64; x64) AppleWebKit/537.36 (KHTML, like Gecko) Chrome/74.0.3729.169 Safari/537.36\" ,'referer':'https://www.google.com/'}\n",
        "  \n",
        "  #getting response from each url\n",
        "  response = requests.get(url, headers = header)\n",
        "  soup = bs(response.content)\n",
        "  \n",
        "  #getting html data of each product for each page \n",
        "  data_fields = []\n",
        "  data_fields = soup.find_all('div', attrs={'data-component-type':'s-search-result', 'class':\"s-result-item s-asin sg-col-0-of-12 sg-col-16-of-20 sg-col s-widget-spacing-small sg-col-12-of-16\"})\n",
        "\n",
        "\n",
        "  #getting names of each product for each page\n",
        "  names_raw = []\n",
        "  for row in data_fields:\n",
        "    name_raw = row.find_all('span', attrs={'class': 'a-size-medium a-color-base a-text-normal'})\n",
        "    names_list.append(name_raw[0].text)\n",
        "\n",
        "  #getting ratings of each product for each page\n",
        "  rat = []\n",
        "  for row in data_fields:\n",
        "    rat = row.find_all('span', attrs={'class': 'a-icon-alt'})\n",
        "    if(rat):\n",
        "      ratings_list.append(rat[0].text)\n",
        "    else:\n",
        "      ratings_list.append(\"NOT AVAILABLE\")\n",
        "  \n",
        "  #getting prices of each product for each page\n",
        "  prices_raw = []\n",
        "  for row in data_fields:\n",
        "    price_raw = row.find_all('span', attrs={'class':'a-offscreen'})\n",
        "    if(price_raw):\n",
        "      prices_list.append(price_raw[0].text)\n",
        "    else:\n",
        "      prices_list.append(\"NOT AVAILABLE\")\n",
        "  \n",
        "  #getting url of each product on each page\n",
        "  for row in data_fields:\n",
        "    strr = row.find('a', attrs={'class':'s-no-outline'}).get('href')\n",
        "    strr = 'https://www.amazon.in'+strr\n",
        "    URLs_list.append(strr)\n",
        "\n",
        "  #getiing no_of_reviews for each product on each page\n",
        "  r = []\n",
        "  for row in data_fields:\n",
        "    r = row.find_all('span', attrs={'class':'a-size-base'})\n",
        "    if(r):\n",
        "      no_of_reviews_list.append(r[0].text)\n",
        "    else:\n",
        "      no_of_reviews_list.append('NA')"
      ],
      "metadata": {
        "id": "h0uzSu-knY_E"
      },
      "execution_count": 18,
      "outputs": []
    },
    {
      "cell_type": "code",
      "source": [
        "zippe = zip(names_list,prices_list,ratings_list,no_of_reviews_list,URLs_list)"
      ],
      "metadata": {
        "id": "kNCBhgspnY8x"
      },
      "execution_count": 19,
      "outputs": []
    },
    {
      "cell_type": "code",
      "source": [
        "df = pd.DataFrame(zippe, columns=['Product Name','Product Price','Product_Rating','No. of Reviews','Product URL'])\n",
        "df"
      ],
      "metadata": {
        "id": "PjRAcn5XnY4i",
        "colab": {
          "base_uri": "https://localhost:8080/",
          "height": 424
        },
        "outputId": "ed334bac-bd32-4f5a-d249-da0653fd55fe"
      },
      "execution_count": 20,
      "outputs": [
        {
          "output_type": "execute_result",
          "data": {
            "text/plain": [
              "                                          Product Name Product Price  \\\n",
              "0                   American Tourister Casual Backpack          ₹999   \n",
              "1    Keywin Travel Bag Trekking Bag Mountaineering ...          ₹589   \n",
              "2    Half Moon 35 L Casual Waterproof Laptop Bag/Ba...          ₹649   \n",
              "3    TRUE HUMAN Emperor Anti-Theft backpack With US...          ₹699   \n",
              "4    Northzone Lightweight School Bags Backpacks fo...          ₹665   \n",
              "..                                                 ...           ...   \n",
              "301  KLEIO Women's & Girls' Sling Bag (BnB315LY-Bl_...          ₹599   \n",
              "302                           Caprese Women's Tote bag          ₹909   \n",
              "303  Raj Collection Cute Kids Backpack Toddler Bag ...          ₹199   \n",
              "304  TRAWOC 80L Travel Backpack Camping Hiking Ruck...        ₹2,012   \n",
              "305  Superbak Epic 30 L Anti theft Backpack/Laptop ...        ₹1,099   \n",
              "\n",
              "         Product_Rating No. of Reviews  \\\n",
              "0    4.1 out of 5 stars         40,245   \n",
              "1         NOT AVAILABLE             NA   \n",
              "2    3.9 out of 5 stars         10,242   \n",
              "3    3.9 out of 5 stars            296   \n",
              "4    4.0 out of 5 stars          2,450   \n",
              "..                  ...            ...   \n",
              "301  4.2 out of 5 stars          3,413   \n",
              "302  4.3 out of 5 stars            122   \n",
              "303  3.2 out of 5 stars             26   \n",
              "304  4.4 out of 5 stars          1,010   \n",
              "305  4.2 out of 5 stars             87   \n",
              "\n",
              "                                           Product URL  \n",
              "0    https://www.amazon.in/American-Tourister-AMT-S...  \n",
              "1    https://www.amazon.in/Keywin-Travel-Trekking-M...  \n",
              "2    https://www.amazon.in/Half-Moon-Waterproof-Bac...  \n",
              "3    https://www.amazon.in/TRUE-HUMAN-Anti-Theft-ba...  \n",
              "4    https://www.amazon.in/Northzone-Polyester-Scho...  \n",
              "..                                                 ...  \n",
              "301  https://www.amazon.in/Kleio-Womens-Sling-Black...  \n",
              "302  https://www.amazon.in/Caprese-Womens-Tote-bag-...  \n",
              "303  https://www.amazon.in/Collection-Backpack-Todd...  \n",
              "304  https://www.amazon.in/TRAWOC-Backpack-Trekking...  \n",
              "305  https://www.amazon.in/Superbak-Backpack-Laptop...  \n",
              "\n",
              "[306 rows x 5 columns]"
            ],
            "text/html": [
              "\n",
              "  <div id=\"df-be44af50-7aec-40f7-b83e-b3c3a743f565\">\n",
              "    <div class=\"colab-df-container\">\n",
              "      <div>\n",
              "<style scoped>\n",
              "    .dataframe tbody tr th:only-of-type {\n",
              "        vertical-align: middle;\n",
              "    }\n",
              "\n",
              "    .dataframe tbody tr th {\n",
              "        vertical-align: top;\n",
              "    }\n",
              "\n",
              "    .dataframe thead th {\n",
              "        text-align: right;\n",
              "    }\n",
              "</style>\n",
              "<table border=\"1\" class=\"dataframe\">\n",
              "  <thead>\n",
              "    <tr style=\"text-align: right;\">\n",
              "      <th></th>\n",
              "      <th>Product Name</th>\n",
              "      <th>Product Price</th>\n",
              "      <th>Product_Rating</th>\n",
              "      <th>No. of Reviews</th>\n",
              "      <th>Product URL</th>\n",
              "    </tr>\n",
              "  </thead>\n",
              "  <tbody>\n",
              "    <tr>\n",
              "      <th>0</th>\n",
              "      <td>American Tourister Casual Backpack</td>\n",
              "      <td>₹999</td>\n",
              "      <td>4.1 out of 5 stars</td>\n",
              "      <td>40,245</td>\n",
              "      <td>https://www.amazon.in/American-Tourister-AMT-S...</td>\n",
              "    </tr>\n",
              "    <tr>\n",
              "      <th>1</th>\n",
              "      <td>Keywin Travel Bag Trekking Bag Mountaineering ...</td>\n",
              "      <td>₹589</td>\n",
              "      <td>NOT AVAILABLE</td>\n",
              "      <td>NA</td>\n",
              "      <td>https://www.amazon.in/Keywin-Travel-Trekking-M...</td>\n",
              "    </tr>\n",
              "    <tr>\n",
              "      <th>2</th>\n",
              "      <td>Half Moon 35 L Casual Waterproof Laptop Bag/Ba...</td>\n",
              "      <td>₹649</td>\n",
              "      <td>3.9 out of 5 stars</td>\n",
              "      <td>10,242</td>\n",
              "      <td>https://www.amazon.in/Half-Moon-Waterproof-Bac...</td>\n",
              "    </tr>\n",
              "    <tr>\n",
              "      <th>3</th>\n",
              "      <td>TRUE HUMAN Emperor Anti-Theft backpack With US...</td>\n",
              "      <td>₹699</td>\n",
              "      <td>3.9 out of 5 stars</td>\n",
              "      <td>296</td>\n",
              "      <td>https://www.amazon.in/TRUE-HUMAN-Anti-Theft-ba...</td>\n",
              "    </tr>\n",
              "    <tr>\n",
              "      <th>4</th>\n",
              "      <td>Northzone Lightweight School Bags Backpacks fo...</td>\n",
              "      <td>₹665</td>\n",
              "      <td>4.0 out of 5 stars</td>\n",
              "      <td>2,450</td>\n",
              "      <td>https://www.amazon.in/Northzone-Polyester-Scho...</td>\n",
              "    </tr>\n",
              "    <tr>\n",
              "      <th>...</th>\n",
              "      <td>...</td>\n",
              "      <td>...</td>\n",
              "      <td>...</td>\n",
              "      <td>...</td>\n",
              "      <td>...</td>\n",
              "    </tr>\n",
              "    <tr>\n",
              "      <th>301</th>\n",
              "      <td>KLEIO Women's &amp; Girls' Sling Bag (BnB315LY-Bl_...</td>\n",
              "      <td>₹599</td>\n",
              "      <td>4.2 out of 5 stars</td>\n",
              "      <td>3,413</td>\n",
              "      <td>https://www.amazon.in/Kleio-Womens-Sling-Black...</td>\n",
              "    </tr>\n",
              "    <tr>\n",
              "      <th>302</th>\n",
              "      <td>Caprese Women's Tote bag</td>\n",
              "      <td>₹909</td>\n",
              "      <td>4.3 out of 5 stars</td>\n",
              "      <td>122</td>\n",
              "      <td>https://www.amazon.in/Caprese-Womens-Tote-bag-...</td>\n",
              "    </tr>\n",
              "    <tr>\n",
              "      <th>303</th>\n",
              "      <td>Raj Collection Cute Kids Backpack Toddler Bag ...</td>\n",
              "      <td>₹199</td>\n",
              "      <td>3.2 out of 5 stars</td>\n",
              "      <td>26</td>\n",
              "      <td>https://www.amazon.in/Collection-Backpack-Todd...</td>\n",
              "    </tr>\n",
              "    <tr>\n",
              "      <th>304</th>\n",
              "      <td>TRAWOC 80L Travel Backpack Camping Hiking Ruck...</td>\n",
              "      <td>₹2,012</td>\n",
              "      <td>4.4 out of 5 stars</td>\n",
              "      <td>1,010</td>\n",
              "      <td>https://www.amazon.in/TRAWOC-Backpack-Trekking...</td>\n",
              "    </tr>\n",
              "    <tr>\n",
              "      <th>305</th>\n",
              "      <td>Superbak Epic 30 L Anti theft Backpack/Laptop ...</td>\n",
              "      <td>₹1,099</td>\n",
              "      <td>4.2 out of 5 stars</td>\n",
              "      <td>87</td>\n",
              "      <td>https://www.amazon.in/Superbak-Backpack-Laptop...</td>\n",
              "    </tr>\n",
              "  </tbody>\n",
              "</table>\n",
              "<p>306 rows × 5 columns</p>\n",
              "</div>\n",
              "      <button class=\"colab-df-convert\" onclick=\"convertToInteractive('df-be44af50-7aec-40f7-b83e-b3c3a743f565')\"\n",
              "              title=\"Convert this dataframe to an interactive table.\"\n",
              "              style=\"display:none;\">\n",
              "        \n",
              "  <svg xmlns=\"http://www.w3.org/2000/svg\" height=\"24px\"viewBox=\"0 0 24 24\"\n",
              "       width=\"24px\">\n",
              "    <path d=\"M0 0h24v24H0V0z\" fill=\"none\"/>\n",
              "    <path d=\"M18.56 5.44l.94 2.06.94-2.06 2.06-.94-2.06-.94-.94-2.06-.94 2.06-2.06.94zm-11 1L8.5 8.5l.94-2.06 2.06-.94-2.06-.94L8.5 2.5l-.94 2.06-2.06.94zm10 10l.94 2.06.94-2.06 2.06-.94-2.06-.94-.94-2.06-.94 2.06-2.06.94z\"/><path d=\"M17.41 7.96l-1.37-1.37c-.4-.4-.92-.59-1.43-.59-.52 0-1.04.2-1.43.59L10.3 9.45l-7.72 7.72c-.78.78-.78 2.05 0 2.83L4 21.41c.39.39.9.59 1.41.59.51 0 1.02-.2 1.41-.59l7.78-7.78 2.81-2.81c.8-.78.8-2.07 0-2.86zM5.41 20L4 18.59l7.72-7.72 1.47 1.35L5.41 20z\"/>\n",
              "  </svg>\n",
              "      </button>\n",
              "      \n",
              "  <style>\n",
              "    .colab-df-container {\n",
              "      display:flex;\n",
              "      flex-wrap:wrap;\n",
              "      gap: 12px;\n",
              "    }\n",
              "\n",
              "    .colab-df-convert {\n",
              "      background-color: #E8F0FE;\n",
              "      border: none;\n",
              "      border-radius: 50%;\n",
              "      cursor: pointer;\n",
              "      display: none;\n",
              "      fill: #1967D2;\n",
              "      height: 32px;\n",
              "      padding: 0 0 0 0;\n",
              "      width: 32px;\n",
              "    }\n",
              "\n",
              "    .colab-df-convert:hover {\n",
              "      background-color: #E2EBFA;\n",
              "      box-shadow: 0px 1px 2px rgba(60, 64, 67, 0.3), 0px 1px 3px 1px rgba(60, 64, 67, 0.15);\n",
              "      fill: #174EA6;\n",
              "    }\n",
              "\n",
              "    [theme=dark] .colab-df-convert {\n",
              "      background-color: #3B4455;\n",
              "      fill: #D2E3FC;\n",
              "    }\n",
              "\n",
              "    [theme=dark] .colab-df-convert:hover {\n",
              "      background-color: #434B5C;\n",
              "      box-shadow: 0px 1px 3px 1px rgba(0, 0, 0, 0.15);\n",
              "      filter: drop-shadow(0px 1px 2px rgba(0, 0, 0, 0.3));\n",
              "      fill: #FFFFFF;\n",
              "    }\n",
              "  </style>\n",
              "\n",
              "      <script>\n",
              "        const buttonEl =\n",
              "          document.querySelector('#df-be44af50-7aec-40f7-b83e-b3c3a743f565 button.colab-df-convert');\n",
              "        buttonEl.style.display =\n",
              "          google.colab.kernel.accessAllowed ? 'block' : 'none';\n",
              "\n",
              "        async function convertToInteractive(key) {\n",
              "          const element = document.querySelector('#df-be44af50-7aec-40f7-b83e-b3c3a743f565');\n",
              "          const dataTable =\n",
              "            await google.colab.kernel.invokeFunction('convertToInteractive',\n",
              "                                                     [key], {});\n",
              "          if (!dataTable) return;\n",
              "\n",
              "          const docLinkHtml = 'Like what you see? Visit the ' +\n",
              "            '<a target=\"_blank\" href=https://colab.research.google.com/notebooks/data_table.ipynb>data table notebook</a>'\n",
              "            + ' to learn more about interactive tables.';\n",
              "          element.innerHTML = '';\n",
              "          dataTable['output_type'] = 'display_data';\n",
              "          await google.colab.output.renderOutput(dataTable, element);\n",
              "          const docLink = document.createElement('div');\n",
              "          docLink.innerHTML = docLinkHtml;\n",
              "          element.appendChild(docLink);\n",
              "        }\n",
              "      </script>\n",
              "    </div>\n",
              "  </div>\n",
              "  "
            ]
          },
          "metadata": {},
          "execution_count": 20
        }
      ]
    },
    {
      "cell_type": "code",
      "source": [
        "df.to_csv(\"Python_assignment_data.csv\", index=None)"
      ],
      "metadata": {
        "id": "mNtMqvskwQC7"
      },
      "execution_count": 21,
      "outputs": []
    }
  ]
}